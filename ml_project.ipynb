{
  "nbformat": 4,
  "nbformat_minor": 0,
  "metadata": {
    "colab": {
      "provenance": [],
      "include_colab_link": true
    },
    "kernelspec": {
      "name": "python3",
      "display_name": "Python 3"
    },
    "language_info": {
      "name": "python"
    }
  },
  "cells": [
    {
      "cell_type": "markdown",
      "metadata": {
        "id": "view-in-github",
        "colab_type": "text"
      },
      "source": [
        "<a href=\"https://colab.research.google.com/github/Anurag-Tendulkar/Machine-Learning-Term-Project-/blob/main/ml_project.ipynb\" target=\"_parent\"><img src=\"https://colab.research.google.com/assets/colab-badge.svg\" alt=\"Open In Colab\"/></a>"
      ]
    },
    {
      "cell_type": "markdown",
      "source": [
        "###Logistic Map\n"
      ],
      "metadata": {
        "id": "XYr5zu8jhcTl"
      }
    },
    {
      "cell_type": "code",
      "source": [
        "import math\n",
        "import random\n",
        "import statistics\n",
        "import numpy as np \n",
        "import pandas as pd\n",
        "import seaborn as sns\n",
        "import matplotlib.pyplot as plt\n",
        "import plotly.figure_factory as ff\n",
        "import plotly.express as px\n",
        "from collections import Counter\n",
        "from scipy import linalg\n",
        "\n",
        "# logistic function\n",
        "def logistic (R, x0, N):    \n",
        "    x = x0\n",
        "    x_list = [x0]\n",
        "    for i in range(N-1):      \n",
        "        x = R * x * (1. - x)\n",
        "        x_list.append(x)\n",
        "    return x_list"
      ],
      "metadata": {
        "id": "pMwjPpQ7fTB3"
      },
      "execution_count": null,
      "outputs": []
    },
    {
      "cell_type": "code",
      "source": [
        "x = logistic(4.0, 0.2, 120 )\n",
        "print(x)\n",
        "#x is the time-series data\n"
      ],
      "metadata": {
        "colab": {
          "base_uri": "https://localhost:8080/"
        },
        "id": "ZKjl4UtPi50U",
        "outputId": "62706f43-cbfc-4064-ab3e-a799abe53535"
      },
      "execution_count": null,
      "outputs": [
        {
          "output_type": "stream",
          "name": "stdout",
          "text": [
            "[0.2, 0.6400000000000001, 0.9215999999999999, 0.28901376000000045, 0.8219392261226504, 0.585420538734196, 0.970813326249439, 0.11333924730375745, 0.40197384929750063, 0.9615634951138035, 0.14783655991331973, 0.5039236458652606, 0.9999384200124961, 0.00024630478163611714, 0.0009849764623626413, 0.003936025134924932, 0.015682131364248682, 0.06174480848049252, 0.23172954842479926, 0.7121238592465515, 0.8200138733533968, 0.5903644834454244, 0.9673370405265665, 0.12638436220748117, 0.44164542078755753, 0.9863789723397551, 0.05374198106289484, 0.20341512213732119, 0.6481496408927195, 0.912206735613433, 0.3203424284596693, 0.8708926279529239, 0.44975463412069594, 0.9899016128306195, 0.03998563898383115, 0.1535471506355435, 0.5198816926689969, 0.9984188731864623, 0.00631450740614895, 0.02509853760946656, 0.09787440407733101, 0.35318002041535335, 0.9137755743790558, 0.31515909618912996, 0.8633353611135227, 0.4719496614580242, 0.9968527140307222, 0.012549522241221646, 0.049568126930954914, 0.18844451089404662, 0.6117327088318006, 0.9500632071084323, 0.18977243842908956, 0.6150354401670679, 0.9470673900222758, 0.20052299511468133, 0.6412540941796753, 0.9201891235099177, 0.29376440193586867, 0.8298675123645202, 0.5647496971457725, 0.983229906878123, 0.06595542839424248, 0.24642123943829775, 0.7427912487679635, 0.7642096380867713, 0.7207730685682292, 0.8050370087798718, 0.6278096930985135, 0.9346587294002552, 0.24428715582462296, 0.7384437652949574, 0.7725782831678532, 0.7028043181810627, 0.8354816341084571, 0.5498082927036773, 0.9900765359117792, 0.0392999557948422, 0.15102187707746256, 0.5128570788858494, 0.9993387820900922, 0.0026431228031336984, 0.010544546819925012, 0.041733437409149685, 0.15996703044466506, 0.5375103184615226, 0.9943719040356607, 0.02238568200062207, 0.08753825296795638, 0.31950122894109784, 0.869680774584904, 0.4533444996092216, 0.9912930571331444, 0.03452452805107558, 0.13333034005570432, 0.46221344190533825, 0.9942887041094349, 0.022714707959261945, 0.08879500000634956, 0.32364179192088777, 0.8755911297724981, 0.435725212944874, 0.9834750069960728, 0.06500767044058935, 0.2431266928979083, 0.736064416393738, 0.7770943652507356, 0.6928748509851677, 0.8511971674297975, 0.5066421983571473, 0.9998235248039372, 0.000705776210271844, 0.002821112360851433, 0.011252614743595537, 0.04450397362011101, 0.1700934798085259, 0.56464675174061, 0.9832831899575518, 0.06574943321781154, 0.24570578099739232]\n"
          ]
        }
      ]
    },
    {
      "cell_type": "code",
      "source": [
        "#Embedding matrix\n",
        "E = np.zeros((5,3))\n",
        "for i in range (3):\n",
        "  E[:,i] = x[i:i+5]\n",
        "\n",
        "print(E)"
      ],
      "metadata": {
        "colab": {
          "base_uri": "https://localhost:8080/"
        },
        "id": "e9N3dh_8kT82",
        "outputId": "cb79f074-285e-4065-9073-15ebf9e6739a"
      },
      "execution_count": null,
      "outputs": [
        {
          "output_type": "stream",
          "name": "stdout",
          "text": [
            "[[0.2        0.64       0.9216    ]\n",
            " [0.64       0.9216     0.28901376]\n",
            " [0.9216     0.28901376 0.82193923]\n",
            " [0.28901376 0.82193923 0.58542054]\n",
            " [0.82193923 0.58542054 0.97081333]]\n"
          ]
        }
      ]
    },
    {
      "cell_type": "markdown",
      "source": [
        "SVD on Embedding matrix does not give any singular values as shown below"
      ],
      "metadata": {
        "id": "8TB14nT3tQid"
      }
    },
    {
      "cell_type": "code",
      "source": [
        "U, D, VT = np.linalg.svd(E)\n",
        "\n",
        "diag_mat = np.diag(D)\n",
        "print(diag_mat)"
      ],
      "metadata": {
        "colab": {
          "base_uri": "https://localhost:8080/"
        },
        "id": "lozq9JZSs7oP",
        "outputId": "b6188087-e3bd-45dc-cab5-184f43e57e71"
      },
      "execution_count": null,
      "outputs": [
        {
          "output_type": "stream",
          "name": "stdout",
          "text": [
            "[[2.53876495 0.         0.        ]\n",
            " [0.         0.73011928 0.        ]\n",
            " [0.         0.         0.57800526]]\n"
          ]
        }
      ]
    },
    {
      "cell_type": "code",
      "source": [
        "#Augmenting the matrix to get F\n",
        "new_values = (E[:,0])**2\n",
        "F = np.zeros((5,4))\n",
        "\n",
        "for i in range (3):\n",
        "  F[:,i] = E[:,i]\n",
        "\n",
        "F[:,3] = new_values[0:5]\n",
        "print(F)\n"
      ],
      "metadata": {
        "colab": {
          "base_uri": "https://localhost:8080/"
        },
        "id": "F0p-EBSfiYoW",
        "outputId": "cddb2fa4-66f0-4a96-b696-2245cf407276"
      },
      "execution_count": null,
      "outputs": [
        {
          "output_type": "stream",
          "name": "stdout",
          "text": [
            "[[0.2        0.64       0.9216     0.04      ]\n",
            " [0.64       0.9216     0.28901376 0.4096    ]\n",
            " [0.9216     0.28901376 0.82193923 0.84934656]\n",
            " [0.28901376 0.82193923 0.58542054 0.08352895]\n",
            " [0.82193923 0.58542054 0.97081333 0.67558409]]\n"
          ]
        }
      ]
    },
    {
      "cell_type": "code",
      "source": [
        "U, D, VT = np.linalg.svd(F)\n",
        "\n",
        "diag_mat = np.diag(D)\n",
        "print(diag_mat)\n",
        "print(\"\\n\")\n",
        "\n",
        "# get dim of X\n",
        "W = np.zeros((F.shape[0], F.shape[1]))\n",
        "# populate Sigma with n x n diagonal matrix\n",
        "W[:F.shape[1], :F.shape[1]] = np.diag(D)\n",
        "print(W)"
      ],
      "metadata": {
        "colab": {
          "base_uri": "https://localhost:8080/"
        },
        "id": "otUp3-DGTnTC",
        "outputId": "9c0e1a5f-8cb6-47a1-e491-7d902a4183b0"
      },
      "execution_count": null,
      "outputs": [
        {
          "output_type": "stream",
          "name": "stdout",
          "text": [
            "[[2.73071324e+00 0.00000000e+00 0.00000000e+00 0.00000000e+00]\n",
            " [0.00000000e+00 9.08301537e-01 0.00000000e+00 0.00000000e+00]\n",
            " [0.00000000e+00 0.00000000e+00 6.20353073e-01 0.00000000e+00]\n",
            " [0.00000000e+00 0.00000000e+00 0.00000000e+00 2.09372104e-16]]\n",
            "\n",
            "\n",
            "[[2.73071324e+00 0.00000000e+00 0.00000000e+00 0.00000000e+00]\n",
            " [0.00000000e+00 9.08301537e-01 0.00000000e+00 0.00000000e+00]\n",
            " [0.00000000e+00 0.00000000e+00 6.20353073e-01 0.00000000e+00]\n",
            " [0.00000000e+00 0.00000000e+00 0.00000000e+00 2.09372104e-16]\n",
            " [0.00000000e+00 0.00000000e+00 0.00000000e+00 0.00000000e+00]]\n"
          ]
        }
      ]
    },
    {
      "cell_type": "code",
      "source": [
        "#preset criterion is 10^-6\n",
        "p = F.shape[1]\n",
        "if W[p-1, p-1]/W[0,0] < 10**(-6):\n",
        "  W[p-1, p-1] = 0"
      ],
      "metadata": {
        "id": "tx19DZBDBPva"
      },
      "execution_count": null,
      "outputs": []
    },
    {
      "cell_type": "code",
      "source": [
        "print(W)"
      ],
      "metadata": {
        "colab": {
          "base_uri": "https://localhost:8080/"
        },
        "id": "_fHRec3SC41C",
        "outputId": "c6543578-7b75-4f3c-d981-bc62bcb2fbb6"
      },
      "execution_count": null,
      "outputs": [
        {
          "output_type": "stream",
          "name": "stdout",
          "text": [
            "[[2.73071324 0.         0.         0.        ]\n",
            " [0.         0.90830154 0.         0.        ]\n",
            " [0.         0.         0.62035307 0.        ]\n",
            " [0.         0.         0.         0.        ]\n",
            " [0.         0.         0.         0.        ]]\n"
          ]
        }
      ]
    },
    {
      "cell_type": "code",
      "source": [
        "print(VT)"
      ],
      "metadata": {
        "id": "47M9In5XTnY6",
        "colab": {
          "base_uri": "https://localhost:8080/"
        },
        "outputId": "0963fd3e-625e-4d02-841f-9a4d3e6d0eeb"
      },
      "execution_count": null,
      "outputs": [
        {
          "output_type": "stream",
          "name": "stdout",
          "text": [
            "[[-5.02833544e-01 -5.00672880e-01 -5.94856283e-01 -3.77665324e-01]\n",
            " [-4.03667134e-01  6.98642877e-01  1.20365560e-01 -5.78327854e-01]\n",
            " [ 3.15218634e-01  4.80543199e-01 -7.94769233e-01  1.95082834e-01]\n",
            " [ 6.96310624e-01 -1.74077656e-01 -3.33066907e-16 -6.96310624e-01]]\n"
          ]
        }
      ]
    },
    {
      "cell_type": "markdown",
      "source": [
        "Since W4,4 = 0, we take 4th row of VT as the coefficients of the equation (for parameter extraction)"
      ],
      "metadata": {
        "id": "aqLZOyRPJNOO"
      }
    },
    {
      "cell_type": "code",
      "source": [
        "if W[p-1, p-1] == 0:\n",
        "  print(VT[p-1, :])"
      ],
      "metadata": {
        "colab": {
          "base_uri": "https://localhost:8080/"
        },
        "id": "yIcthVsvDDQi",
        "outputId": "3d4ed9a0-d017-40d5-d505-36de9e42a313"
      },
      "execution_count": null,
      "outputs": [
        {
          "output_type": "stream",
          "name": "stdout",
          "text": [
            "[ 6.96310624e-01 -1.74077656e-01 -3.33066907e-16 -6.96310624e-01]\n"
          ]
        }
      ]
    },
    {
      "cell_type": "markdown",
      "source": [
        "6.96310624e-01 Xn - 1.74077656e-01 Xn+1 + 0 Xn+2 - 6.96310624e-01 Xn^2 = 0\n",
        "\n",
        "---\n",
        "\n",
        "\n",
        "=> 4Xn - Xn+1 - 4Xn^2 = 0\n",
        "\n",
        "---\n",
        "\n",
        "\n",
        "=> Xn+1 = 4Xn(1 - Xn)\n",
        "\n",
        "\n",
        "---\n",
        "The parameter R is correctly estimated as 4\n"
      ],
      "metadata": {
        "id": "p5nIfH8lyE6-"
      }
    },
    {
      "cell_type": "markdown",
      "source": [
        "####Comparison of Non linear SVD with standard SVD and surrogates\n"
      ],
      "metadata": {
        "id": "IcZ9Nt6PjuQN"
      }
    },
    {
      "cell_type": "code",
      "source": [
        "x = logistic(4.0, 0.2, 120 )\n",
        "print(x)\n"
      ],
      "metadata": {
        "colab": {
          "base_uri": "https://localhost:8080/"
        },
        "id": "DyaO1cUmjzM4",
        "outputId": "c2be524e-4999-4cc3-94d6-b44ed6abfd85"
      },
      "execution_count": null,
      "outputs": [
        {
          "output_type": "stream",
          "name": "stdout",
          "text": [
            "[0.2, 0.6400000000000001, 0.9215999999999999, 0.28901376000000045, 0.8219392261226504, 0.585420538734196, 0.970813326249439, 0.11333924730375745, 0.40197384929750063, 0.9615634951138035, 0.14783655991331973, 0.5039236458652606, 0.9999384200124961, 0.00024630478163611714, 0.0009849764623626413, 0.003936025134924932, 0.015682131364248682, 0.06174480848049252, 0.23172954842479926, 0.7121238592465515, 0.8200138733533968, 0.5903644834454244, 0.9673370405265665, 0.12638436220748117, 0.44164542078755753, 0.9863789723397551, 0.05374198106289484, 0.20341512213732119, 0.6481496408927195, 0.912206735613433, 0.3203424284596693, 0.8708926279529239, 0.44975463412069594, 0.9899016128306195, 0.03998563898383115, 0.1535471506355435, 0.5198816926689969, 0.9984188731864623, 0.00631450740614895, 0.02509853760946656, 0.09787440407733101, 0.35318002041535335, 0.9137755743790558, 0.31515909618912996, 0.8633353611135227, 0.4719496614580242, 0.9968527140307222, 0.012549522241221646, 0.049568126930954914, 0.18844451089404662, 0.6117327088318006, 0.9500632071084323, 0.18977243842908956, 0.6150354401670679, 0.9470673900222758, 0.20052299511468133, 0.6412540941796753, 0.9201891235099177, 0.29376440193586867, 0.8298675123645202, 0.5647496971457725, 0.983229906878123, 0.06595542839424248, 0.24642123943829775, 0.7427912487679635, 0.7642096380867713, 0.7207730685682292, 0.8050370087798718, 0.6278096930985135, 0.9346587294002552, 0.24428715582462296, 0.7384437652949574, 0.7725782831678532, 0.7028043181810627, 0.8354816341084571, 0.5498082927036773, 0.9900765359117792, 0.0392999557948422, 0.15102187707746256, 0.5128570788858494, 0.9993387820900922, 0.0026431228031336984, 0.010544546819925012, 0.041733437409149685, 0.15996703044466506, 0.5375103184615226, 0.9943719040356607, 0.02238568200062207, 0.08753825296795638, 0.31950122894109784, 0.869680774584904, 0.4533444996092216, 0.9912930571331444, 0.03452452805107558, 0.13333034005570432, 0.46221344190533825, 0.9942887041094349, 0.022714707959261945, 0.08879500000634956, 0.32364179192088777, 0.8755911297724981, 0.435725212944874, 0.9834750069960728, 0.06500767044058935, 0.2431266928979083, 0.736064416393738, 0.7770943652507356, 0.6928748509851677, 0.8511971674297975, 0.5066421983571473, 0.9998235248039372, 0.000705776210271844, 0.002821112360851433, 0.011252614743595537, 0.04450397362011101, 0.1700934798085259, 0.56464675174061, 0.9832831899575518, 0.06574943321781154, 0.24570578099739232]\n"
          ]
        }
      ]
    },
    {
      "cell_type": "code",
      "source": [
        "F = np.zeros((21,21))\n",
        "M = np.zeros((21,21))\n",
        "\n",
        "for i in range (21):\n",
        "  M[:,i] = x[i:i+21]\n",
        "\n",
        "#print(M)\n",
        "\n",
        "for i in range(11):\n",
        "  F[:,i] = M[:,i]\n",
        "\n",
        "\n",
        "for i in range(11,21):\n",
        "  F[:,i] = M[:,i-11]*M[:,i-11]\n",
        "\n"
      ],
      "metadata": {
        "id": "pN1hkhBrj4ir"
      },
      "execution_count": null,
      "outputs": []
    },
    {
      "cell_type": "markdown",
      "source": [
        "Since we wil be using the SVD function over and over, we create a function to calculate SVD.\n"
      ],
      "metadata": {
        "id": "A1zXDjy9Jgbo"
      }
    },
    {
      "cell_type": "code",
      "source": [
        "#SVD function to be used for parameter \n",
        "#extraction and singular value calculation\n",
        "def SVD_function(F):\n",
        "  U, D, VT = np.linalg.svd(F)\n",
        "\n",
        "  diag_mat = np.diag(D)\n",
        "\n",
        "\n",
        "  # get dim of X\n",
        "  W = np.zeros((F.shape[0], F.shape[1]))\n",
        "  # populate Sigma with n x n diagonal matrix\n",
        "  # we do this incase we have a non-square matrix (as in the first case where we had a 5x4 matrix)\n",
        "  W[:F.shape[1], :F.shape[1]] = np.diag(D)\n",
        "  #preset criterion is 10^-6\n",
        "  p = F.shape[1]\n",
        "  for i in range (p):\n",
        "    if W[i, i]/W[0, 0] < 10**(-6):\n",
        "      W[i, i] = 0\n",
        "  \n",
        "  return W, VT\n",
        "    \n"
      ],
      "metadata": {
        "id": "zJF2_LOvzB5d"
      },
      "execution_count": null,
      "outputs": []
    },
    {
      "cell_type": "code",
      "source": [
        "\n",
        "W, VT= SVD_function(F)\n",
        "W_lin, VT_lin = SVD_function(M)\n",
        "  "
      ],
      "metadata": {
        "id": "N9Dz3N2dni-L"
      },
      "execution_count": null,
      "outputs": []
    },
    {
      "cell_type": "code",
      "source": [
        "plt_arr_lin = []\n",
        "plt_arr = []\n",
        "n_arr = []\n",
        "for i in range (21):\n",
        "  plt_arr_lin.append(W_lin[i,i]*(i**2))\n",
        "  plt_arr.append(W[i,i]*(i**2))\n",
        "  n_arr.append(i)\n",
        "print(plt_arr)\n",
        "\n",
        "plt.plot(n_arr, plt_arr, label='n2σ')\n",
        "plt.plot(n_arr, plt_arr_lin, label='n2ρ')\n",
        "leg = plt.legend(loc='upper left')\n",
        "plt.xlabel('n')\n",
        "plt.ylabel('n2S')\n",
        "plt.show()"
      ],
      "metadata": {
        "colab": {
          "base_uri": "https://localhost:8080/",
          "height": 316
        },
        "id": "eCwIxjkepCjh",
        "outputId": "ea391b05-4e49-426d-9cd5-2c2a30c00df6"
      },
      "execution_count": null,
      "outputs": [
        {
          "output_type": "stream",
          "name": "stdout",
          "text": [
            "[0.0, 3.2720653012094685, 12.791925641241221, 26.471529263099313, 44.0839220412942, 64.78358767219216, 84.56140415354783, 75.04986797614518, 85.62668954336104, 100.07034010684511, 103.33406584976383, 0.0, 0.0, 0.0, 0.0, 0.0, 0.0, 0.0, 0.0, 0.0, 0.0]\n"
          ]
        },
        {
          "output_type": "display_data",
          "data": {
            "text/plain": [
              "<Figure size 432x288 with 1 Axes>"
            ],
            "image/png": "[encoded data removed]"
          },
          "metadata": {
            "needs_background": "light"
          }
        }
      ]
    },
    {
      "cell_type": "markdown",
      "source": [
        "###Surrogates"
      ],
      "metadata": {
        "id": "WJG51AF95d3C"
      }
    },
    {
      "cell_type": "markdown",
      "source": [
        "We use Fourier Transform to calculate"
      ],
      "metadata": {
        "id": "0-b1hKXzLnbc"
      }
    },
    {
      "cell_type": "code",
      "source": [
        "ts_fourier  = np.fft.rfft(x)\n",
        "random_phases = np.exp(np.random.uniform(0,np.pi,len(x)//2+1)*1.0j)\n",
        "ts_fourier_new = ts_fourier*random_phases\n",
        "new_ts = np.fft.irfft(ts_fourier_new)\n",
        "print(new_ts[:10])\n"
      ],
      "metadata": {
        "id": "dwY46fvL5dKQ",
        "colab": {
          "base_uri": "https://localhost:8080/"
        },
        "outputId": "32a740e2-4391-435d-d4c3-9a69be16f655"
      },
      "execution_count": null,
      "outputs": [
        {
          "output_type": "stream",
          "name": "stdout",
          "text": [
            "[0.10704772 1.0669663  0.48059358 0.30472551 0.82904778 0.49694447\n",
            " 0.52288976 0.463938   0.84106987 0.8486909 ]\n"
          ]
        }
      ]
    },
    {
      "cell_type": "code",
      "source": [
        "F_surr = np.zeros((21,21))\n",
        "M_surr = np.zeros((21,21))\n",
        "\n",
        "for i in range (21):\n",
        "  M_surr[:,i] = new_ts[i:i+21]\n",
        "\n",
        "#print(M)\n",
        "\n",
        "for i in range(11):\n",
        "  F_surr[:,i] = M_surr[:,i]\n",
        "\n",
        "\n",
        "for i in range(11,21):\n",
        "  F_surr[:,i] = M_surr[:,i-11]*M_surr[:,i-11]"
      ],
      "metadata": {
        "id": "4nD0R1GK7Igk"
      },
      "execution_count": null,
      "outputs": []
    },
    {
      "cell_type": "code",
      "source": [
        "W_surr, VT_surr = SVD_function(F_surr)\n",
        "W_surr_lin, VT_surr_lin = SVD_function(M_surr)"
      ],
      "metadata": {
        "id": "3288JCRaDyxq"
      },
      "execution_count": null,
      "outputs": []
    },
    {
      "cell_type": "code",
      "source": [
        "surr_plt_lin = []\n",
        "surr_plt = []\n",
        "n_arr = []\n",
        "for i in range (21):\n",
        "  surr_plt_lin.append(W_surr_lin[i,i]*(i**2))\n",
        "  surr_plt.append(W_surr[i,i]*(i**2))\n",
        "  n_arr.append(i)\n",
        "print(surr_plt)\n",
        "\n",
        "plt.plot(n_arr, surr_plt, label='n2σ')\n",
        "plt.plot(n_arr, surr_plt_lin, label='n2ρ')\n",
        "leg = plt.legend(loc='upper left')\n",
        "plt.xlabel('n')\n",
        "plt.ylabel('n2S')\n",
        "plt.show()\n",
        "\n",
        "#this is a plot of the surrogates (SVD (n2σ)and non linear(n2ρ) SVD)"
      ],
      "metadata": {
        "colab": {
          "base_uri": "https://localhost:8080/",
          "height": 316
        },
        "id": "3S6rTGyGD5zH",
        "outputId": "bfe23c8b-0601-462e-d0da-a2ed1ab55eb7"
      },
      "execution_count": null,
      "outputs": [
        {
          "output_type": "stream",
          "name": "stdout",
          "text": [
            "[0.0, 2.3062091510717306, 9.081535712726126, 15.973614262908237, 27.38476465675099, 42.332116957727145, 53.89881526498885, 55.519937920066255, 68.12762275267613, 73.66287706011649, 89.32709673593487, 98.1443758617535, 106.9533177234857, 115.41189408257021, 130.9927978630622, 129.08176895621068, 136.65136508976173, 105.61990240197612, 76.54414485012704, 55.08113142768982, 13.531377905009423]\n"
          ]
        },
        {
          "output_type": "display_data",
          "data": {
            "text/plain": [
              "<Figure size 432x288 with 1 Axes>"
            ],
            "image/png": "[encoded data removed]"
          },
          "metadata": {
            "needs_background": "light"
          }
        }
      ]
    },
    {
      "cell_type": "code",
      "source": [
        "plt.plot(n_arr, plt_arr, label='n2σ')\n",
        "plt.plot(n_arr, surr_plt, label='n2σsurr')\n",
        "leg = plt.legend(loc='upper left')\n",
        "leg = plt.legend(loc='upper left')\n",
        "plt.xlabel('n')\n",
        "plt.ylabel('n2S')\n",
        "plt.title('Linear SVD and surrogate')\n",
        "plt.show()\n",
        "\n",
        "\n",
        "plt.plot(n_arr, plt_arr_lin, label='n2ρ')\n",
        "plt.plot(n_arr, surr_plt_lin, label='n2ρsurr')\n",
        "leg = plt.legend(loc='upper left')\n",
        "plt.title('Non-Linear SVD and surrogate')\n",
        "\n",
        "\n",
        "plt.xlabel('n')\n",
        "plt.ylabel('n2S')\n",
        "plt.show()\n",
        "\n",
        "\n"
      ],
      "metadata": {
        "colab": {
          "base_uri": "https://localhost:8080/",
          "height": 573
        },
        "id": "1VP0-BHTYPTd",
        "outputId": "ee502fff-5d3e-419a-a264-c4df2d652959"
      },
      "execution_count": null,
      "outputs": [
        {
          "output_type": "display_data",
          "data": {
            "text/plain": [
              "<Figure size 432x288 with 1 Axes>"
            ],
            "image/png": "[encoded data removed]"
          },
          "metadata": {
            "needs_background": "light"
          }
        },
        {
          "output_type": "display_data",
          "data": {
            "text/plain": [
              "<Figure size 432x288 with 1 Axes>"
            ],
            "image/png": "[encoded data removed]"
          },
          "metadata": {
            "needs_background": "light"
          }
        }
      ]
    },
    {
      "cell_type": "markdown",
      "source": [
        "###Henon Map\n"
      ],
      "metadata": {
        "id": "PnmAcMh8hXcd"
      }
    },
    {
      "cell_type": "code",
      "source": [
        "#henon map\n",
        "def henon_map(x, y, a=1.4, b=0.3):\n",
        "\tx_next = 1 - a * x ** 2 + y\n",
        "\ty_next = b * x\n",
        "\treturn x_next, y_next\n",
        "\t\n"
      ],
      "metadata": {
        "id": "25Qhoc2VGb-P"
      },
      "execution_count": null,
      "outputs": []
    },
    {
      "cell_type": "code",
      "source": [
        "# number of iterations and array initialization\n",
        "steps = 100000\n",
        "X = np.zeros(steps + 1)\n",
        "Y = np.zeros(steps + 1)\n",
        "\n",
        "# starting point\n",
        "X[0], Y[0] = 0, 0\n",
        "\n",
        "# add points to array\n",
        "for i in range(steps):\n",
        "\tx_next, y_next = henon_map(X[i], Y[i])\n",
        "\tX[i+1] = x_next\n",
        "\tY[i+1] = y_next"
      ],
      "metadata": {
        "id": "iompMDpPHTmU"
      },
      "execution_count": null,
      "outputs": []
    },
    {
      "cell_type": "code",
      "source": [
        "print(X[0:20])\n",
        "print(Y[0:20])"
      ],
      "metadata": {
        "colab": {
          "base_uri": "https://localhost:8080/"
        },
        "id": "0AQfP-VIGgap",
        "outputId": "3eb502c4-da81-4f57-e184-6bc5d05bda4b"
      },
      "execution_count": null,
      "outputs": [
        {
          "output_type": "stream",
          "name": "stdout",
          "text": [
            "[ 0.          1.         -0.4         1.076      -0.7408864   0.55432228\n",
            "  0.34755162  0.99718771 -0.28787117  1.18313858 -1.046105   -0.17712836\n",
            "  0.64224426  0.36939272  1.0016419  -0.29378328  1.17966051 -1.03637347\n",
            " -0.1497998   0.65767199]\n",
            "[ 0.          0.          0.3        -0.12        0.3228     -0.22226592\n",
            "  0.16629668  0.10426548  0.29915631 -0.08636135  0.35494157 -0.3138315\n",
            " -0.05313851  0.19267328  0.11081782  0.30049257 -0.08813498  0.35389815\n",
            " -0.31091204 -0.04493994]\n"
          ]
        }
      ]
    },
    {
      "cell_type": "code",
      "source": [
        "G = np.zeros((7,7))\n",
        "G[:,0] = 1\n",
        "\n",
        "for i in range (1,4):\n",
        "  G[:,i] = X[3-i:3-i+7]\n",
        "\n",
        "G[:,4] = (X[0:7])**2\n",
        "G[:,5] = (X[1:8])**2\n",
        "G[:,6] = (X[0:7])*(X[1:8])\n",
        "\n",
        "\n",
        "print(G)\n"
      ],
      "metadata": {
        "colab": {
          "base_uri": "https://localhost:8080/"
        },
        "id": "jzVE9bw9ghvI",
        "outputId": "d26c5852-c9d1-4cb8-d662-63dc9f7890f1"
      },
      "execution_count": null,
      "outputs": [
        {
          "output_type": "stream",
          "name": "stdout",
          "text": [
            "[[ 1.         -0.4         1.          0.          0.          1.\n",
            "   0.        ]\n",
            " [ 1.          1.076      -0.4         1.          1.          0.16\n",
            "  -0.4       ]\n",
            " [ 1.         -0.7408864   1.076      -0.4         0.16        1.157776\n",
            "  -0.4304    ]\n",
            " [ 1.          0.55432228 -0.7408864   1.076       1.157776    0.54891266\n",
            "  -0.79719377]\n",
            " [ 1.          0.34755162  0.55432228 -0.7408864   0.54891266  0.30727319\n",
            "  -0.41068984]\n",
            " [ 1.          0.99718771  0.34755162  0.55432228  0.30727319  0.12079213\n",
            "   0.1926556 ]\n",
            " [ 1.         -0.28787117  0.99718771  0.34755162  0.12079213  0.99438333\n",
            "   0.3465742 ]]\n"
          ]
        }
      ]
    },
    {
      "cell_type": "code",
      "source": [
        "# U, D, VT = np.linalg.svd(F)\n",
        "\n",
        "# diag_mat = np.diag(D)\n",
        "\n",
        "\n",
        "# # get dim of X\n",
        "# W = np.zeros((F.shape[0], F.shape[1]))\n",
        "# # populate Sigma with n x n diagonal matrix\n",
        "# W[:F.shape[1], :F.shape[1]] = np.diag(D)\n",
        "\n",
        "# print(W)"
      ],
      "metadata": {
        "id": "Is8WjYrvkOex"
      },
      "execution_count": null,
      "outputs": []
    },
    {
      "cell_type": "code",
      "source": [
        "# #preset criterion is 10^-6\n",
        "# p = F.shape[1]\n",
        "# if W[p-1, p-1]/W[0, 0] < 10**(-6):\n",
        "#   W[p-1, p-1] = 0\n",
        "W, VT= SVD_function(G)"
      ],
      "metadata": {
        "id": "LnkrBIf8kbWi"
      },
      "execution_count": null,
      "outputs": []
    },
    {
      "cell_type": "code",
      "source": [
        "print(W)"
      ],
      "metadata": {
        "colab": {
          "base_uri": "https://localhost:8080/"
        },
        "id": "pQFZr7lbkcM2",
        "outputId": "e41a9817-2e40-4034-dfcd-5da04d13d06f"
      },
      "execution_count": null,
      "outputs": [
        {
          "output_type": "stream",
          "name": "stdout",
          "text": [
            "[[3.6880997  0.         0.         0.         0.         0.\n",
            "  0.        ]\n",
            " [0.         3.00726412 0.         0.         0.         0.\n",
            "  0.        ]\n",
            " [0.         0.         1.27162095 0.         0.         0.\n",
            "  0.        ]\n",
            " [0.         0.         0.         1.21824507 0.         0.\n",
            "  0.        ]\n",
            " [0.         0.         0.         0.         0.21352236 0.\n",
            "  0.        ]\n",
            " [0.         0.         0.         0.         0.         0.10780012\n",
            "  0.        ]\n",
            " [0.         0.         0.         0.         0.         0.\n",
            "  0.        ]]\n"
          ]
        }
      ]
    },
    {
      "cell_type": "code",
      "source": [
        "if W[p-1, p-1] == 0:\n",
        "  print(VT[p-1, :])"
      ],
      "metadata": {
        "id": "jcD6o-Xxknlr"
      },
      "execution_count": null,
      "outputs": []
    },
    {
      "cell_type": "markdown",
      "source": [
        "-4.96903995e-01 (1) + 4.96903995e-01 (Xn+2) + 0 (Xn+1) - 1.49071198e-01 (Xn) + 0 (Xn)^2 + 6.95665593e-01 (Xn+1)^2 + 0 (Xn*Xn+1) = 0\n",
        "\n",
        "---\n",
        "\n",
        "\n",
        "-10 + 10Xn+2 - 3Xn + 14(Xn+1)^2 = 0\n",
        "\n",
        "---\n",
        "\n",
        " Xn+2 = 1 - 1.4(Xn+1)^2 + 0.3Xn\n",
        "\n",
        "\n",
        "\n",
        "---\n",
        " Xn+1 = 1 - 1.4(Xn)^2 + Yn\n",
        " Yn+1 = 0.3Xn\n",
        "\n",
        "\n",
        "---\n",
        "Parameter a and b correctly estimated as 1.4 and 3\n",
        "\n"
      ],
      "metadata": {
        "id": "vCi0VxUE8cl4"
      }
    },
    {
      "cell_type": "code",
      "source": [
        "x = logistic(3.842, 0.2, 10)\n",
        "\n",
        "print(x)"
      ],
      "metadata": {
        "colab": {
          "base_uri": "https://localhost:8080/"
        },
        "id": "78SRj71r8Zbj",
        "outputId": "a3d56ab8-5958-4d93-ac43-2a2ec81512f8"
      },
      "execution_count": null,
      "outputs": [
        {
          "output_type": "stream",
          "name": "stdout",
          "text": [
            "[0.2, 0.6147200000000002, 0.9099366735871999, 0.3148592906566208, 0.8288074499717965, 0.5451247089589772, 0.9526767683841343, 0.17321174200947045, 0.550210647116617, 0.9508138988997736]\n"
          ]
        }
      ]
    },
    {
      "cell_type": "code",
      "source": [
        "G1 = np.zeros((5,5))\n",
        "\n",
        "G1[:,0] = x[0:5]\n",
        "G1[:,1] = x[2:7]\n",
        "G1[:,2] = G1[:,0]**2\n",
        "G1[:,3] = G1[:,0]**3 \n",
        "G1[:,4] = G1[:,0]**4 \n",
        "\n",
        "\n",
        "\n",
        "W_2, VT_2= SVD_function(G1)\n",
        "print(W_2)\n",
        "print(VT_2)\n"
      ],
      "metadata": {
        "colab": {
          "base_uri": "https://localhost:8080/"
        },
        "id": "Ogk5FG2Q82KA",
        "outputId": "3127d4b0-a61e-4568-e2c5-c3cf598ead1e"
      },
      "execution_count": null,
      "outputs": [
        {
          "output_type": "stream",
          "name": "stdout",
          "text": [
            "[[2.66401043 0.         0.         0.         0.        ]\n",
            " [0.         0.80044902 0.         0.         0.        ]\n",
            " [0.         0.         0.28878849 0.         0.        ]\n",
            " [0.         0.         0.         0.03447386 0.        ]\n",
            " [0.         0.         0.         0.         0.        ]]\n",
            "[[-0.52668489 -0.58459003 -0.41639773 -0.34670454 -0.2954089 ]\n",
            " [-0.16129664  0.77964768 -0.35451844 -0.36129755 -0.33153226]\n",
            " [ 0.74611632 -0.21849199  0.02349621 -0.34642657 -0.52441229]\n",
            " [-0.36016551  0.0511716   0.67953114  0.16828591 -0.61447503]\n",
            " [-0.10088441  0.00683454  0.48848231 -0.7751958   0.3875979 ]]\n"
          ]
        }
      ]
    },
    {
      "cell_type": "code",
      "source": [
        "if W_2[4, 4] == 0:\n",
        "  print(VT_2[4, :])\n",
        "  "
      ],
      "metadata": {
        "colab": {
          "base_uri": "https://localhost:8080/"
        },
        "id": "SYvjaI0m-6Bm",
        "outputId": "eac5f4f0-ace1-4af8-97b3-852a4e209e18"
      },
      "execution_count": null,
      "outputs": [
        {
          "output_type": "stream",
          "name": "stdout",
          "text": [
            "[-0.10088441  0.00683454  0.48848231 -0.7751958   0.3875979 ]\n"
          ]
        }
      ]
    },
    {
      "cell_type": "code",
      "source": [
        "#dividing by 0.00683454 so that the coeffecient of Xn+2 is 1\n",
        "new_coeff = []\n",
        "new_coeff = (VT_2[4, :])/VT_2[4, 1]\n",
        "print(new_coeff)"
      ],
      "metadata": {
        "colab": {
          "base_uri": "https://localhost:8080/"
        },
        "id": "qw-BvYlJBidC",
        "outputId": "8b2664e3-d29b-48ac-8b72-e64222caf6bf"
      },
      "execution_count": null,
      "outputs": [
        {
          "output_type": "stream",
          "name": "stdout",
          "text": [
            "[ -14.760964      1.           71.47258769 -113.42324738   56.71162369]\n"
          ]
        }
      ]
    },
    {
      "cell_type": "code",
      "source": [
        "#Thus we get  λ^2 as 14.760964\n",
        "lamba = math.sqrt(14.760964)\n",
        "print(lamba)"
      ],
      "metadata": {
        "colab": {
          "base_uri": "https://localhost:8080/"
        },
        "id": "szSyOa2vCZ_O",
        "outputId": "1420584f-fee9-4958-afe5-5d486cec0471"
      },
      "execution_count": null,
      "outputs": [
        {
          "output_type": "stream",
          "name": "stdout",
          "text": [
            "3.842\n"
          ]
        }
      ]
    },
    {
      "cell_type": "markdown",
      "source": [
        "###Noisy Results\n",
        "\n"
      ],
      "metadata": {
        "id": "-sW-UaQk8khu"
      }
    },
    {
      "cell_type": "code",
      "source": [
        "# import numpy as np\n",
        "# import scipy.io\n",
        "\n",
        "# def signaltonoise(a, axis=0, ddof=0):\n",
        "#     a = np.asanyarray(a)\n",
        "#     m = a.mean(axis)\n",
        "#     sd = a.std(axis=axis, ddof=ddof)\n",
        "#     return np.where(sd == 0, 0, m/sd)\n",
        "\n",
        "# dat = scipy.io.loadmat('./data.mat')\n",
        "# arr = dat['dn']\n",
        "# snr = signaltonoise(arr)"
      ],
      "metadata": {
        "id": "cxBSrZOB8n6h"
      },
      "execution_count": null,
      "outputs": []
    },
    {
      "cell_type": "markdown",
      "source": [
        "###Van der Pol Equation"
      ],
      "metadata": {
        "id": "I7NsHP7KFoHJ"
      }
    },
    {
      "cell_type": "code",
      "source": [
        "from scipy import linspace\n",
        "from scipy.integrate import solve_ivp\n",
        "import matplotlib.pyplot as plt\n",
        "\n",
        "def vdp(t, z):\n",
        "    x, y = z\n",
        "    return [y, mu*(1 - x**2)*y - 2.895*x]\n",
        "\n",
        "a, b = 0, 10\n",
        "\n",
        "mu = 0.237\n",
        "\n",
        "t = np.linspace(a, b, 500)\n",
        "\n",
        "\n",
        "sol = solve_ivp(vdp, [a, b], [1, 0], t_eval=t)\n",
        "\n",
        "\n",
        "print(sol.y[1][:10])\n"
      ],
      "metadata": {
        "colab": {
          "base_uri": "https://localhost:8080/"
        },
        "id": "pUbh4t7QFm0v",
        "outputId": "3c49457e-db3d-40f4-bdda-511cd54c131e"
      },
      "execution_count": null,
      "outputs": [
        {
          "output_type": "stream",
          "name": "stdout",
          "text": [
            "[ 0.         -0.05800487 -0.11594342 -0.17375034 -0.2313637  -0.28872426\n",
            " -0.34577436 -0.40245792 -0.45872044 -0.51450901]\n"
          ]
        }
      ]
    },
    {
      "cell_type": "code",
      "source": [
        "vdp_data = sol.y[0]\n",
        "vdp_data[:12]\n"
      ],
      "metadata": {
        "colab": {
          "base_uri": "https://localhost:8080/"
        },
        "id": "-QHF8wTjIQ0F",
        "outputId": "31fa6e74-1c69-4943-d999-242888a42311"
      },
      "execution_count": null,
      "outputs": [
        {
          "output_type": "execute_result",
          "data": {
            "text/plain": [
              "array([1.        , 0.99941873, 0.9976756 , 0.99477312, 0.99071493,\n",
              "       0.98550541, 0.97914999, 0.97165517, 0.96302849, 0.95327858,\n",
              "       0.94241512, 0.93044882])"
            ]
          },
          "metadata": {},
          "execution_count": 194
        }
      ]
    },
    {
      "cell_type": "code",
      "source": [
        "F_embed = np.zeros((10,10))\n",
        "\n",
        "F_embed[:,0] = vdp_data[2:12]  #X3\n",
        "F_embed[:,1] = vdp_data[0:10] #X1\n",
        "F_embed[:,2] = vdp_data[0:10] #X2\n",
        "F_embed[:,3] =  (F_embed[:,1])**2  \n",
        "F_embed[:,4] =  (F_embed[:,2])**2\n",
        "F_embed[:,5] =  (F_embed[:,1])*(F_embed[:,2])\n",
        "F_embed[:,6] =  (F_embed[:,1])**3\n",
        "F_embed[:,7] =  (F_embed[:,2])**3\n",
        "F_embed[:,8] = ((F_embed[:,1])**2)*(F_embed[:,2])\n",
        "F_embed[:,9] = ((F_embed[:,2])**2)*(F_embed[:,1])\n",
        "\n",
        "print(F_embed)\n",
        "\n",
        "my_F = np.zeros((6,6))\n",
        "my_F[:,0] = vdp_data[2:8]  #X3\n",
        "my_F[:,1] = vdp_data[0:6] #X1\n",
        "my_F[:,2] = vdp_data[0:6] #X2\n",
        "my_F[:,3] =  (my_F[:,1])**2  \n",
        "my_F[:,4] =  (my_F[:,2])**2\n",
        "my_F[:,5] =  (my_F[:,1])*(my_F[:,2])\n"
      ],
      "metadata": {
        "colab": {
          "base_uri": "https://localhost:8080/"
        },
        "id": "FSQX2nFoIrDm",
        "outputId": "1bf8fe56-f3c2-4bb4-dbda-9203b5671a06"
      },
      "execution_count": null,
      "outputs": [
        {
          "output_type": "stream",
          "name": "stdout",
          "text": [
            "[[0.9976756  1.         1.         1.         1.         1.\n",
            "  1.         1.         1.         1.        ]\n",
            " [0.99477312 0.99941873 0.99941873 0.9988378  0.9988378  0.9988378\n",
            "  0.99825721 0.99825721 0.99825721 0.99825721]\n",
            " [0.99071493 0.9976756  0.9976756  0.99535661 0.99535661 0.99535661\n",
            "  0.993043   0.993043   0.993043   0.993043  ]\n",
            " [0.98550541 0.99477312 0.99477312 0.98957356 0.98957356 0.98957356\n",
            "  0.98440117 0.98440117 0.98440117 0.98440117]\n",
            " [0.97914999 0.99071493 0.99071493 0.98151607 0.98151607 0.98151607\n",
            "  0.97240263 0.97240263 0.97240263 0.97240263]\n",
            " [0.97165517 0.98550541 0.98550541 0.97122091 0.97122091 0.97122091\n",
            "  0.95714346 0.95714346 0.95714346 0.95714346]\n",
            " [0.96302849 0.97914999 0.97914999 0.9587347  0.9587347  0.9587347\n",
            "  0.93874507 0.93874507 0.93874507 0.93874507]\n",
            " [0.95327858 0.97165517 0.97165517 0.94411376 0.94411376 0.94411376\n",
            "  0.91735301 0.91735301 0.91735301 0.91735301]\n",
            " [0.94241512 0.96302849 0.96302849 0.92742388 0.92742388 0.92742388\n",
            "  0.89313562 0.89313562 0.89313562 0.89313562]\n",
            " [0.93044882 0.95327858 0.95327858 0.90874006 0.90874006 0.90874006\n",
            "  0.86628244 0.86628244 0.86628244 0.86628244]]\n"
          ]
        }
      ]
    },
    {
      "cell_type": "code",
      "source": [
        "W_final, VT_final = SVD_function(F_embed)\n",
        "#print(W_final)\n",
        "\n",
        "my_w, my_VT = SVD_function(my_F)\n",
        "print(my_w)\n",
        "print(my_VT)"
      ],
      "metadata": {
        "colab": {
          "base_uri": "https://localhost:8080/"
        },
        "id": "VyQkMDTXMfUI",
        "outputId": "6fc795dd-519a-4f11-967c-09fb0a0f0ba0"
      },
      "execution_count": null,
      "outputs": [
        {
          "output_type": "stream",
          "name": "stdout",
          "text": [
            "[[5.94443112e+00 0.00000000e+00 0.00000000e+00 0.00000000e+00\n",
            "  0.00000000e+00 0.00000000e+00]\n",
            " [0.00000000e+00 1.38750438e-02 0.00000000e+00 0.00000000e+00\n",
            "  0.00000000e+00 0.00000000e+00]\n",
            " [0.00000000e+00 0.00000000e+00 2.44045956e-03 0.00000000e+00\n",
            "  0.00000000e+00 0.00000000e+00]\n",
            " [0.00000000e+00 0.00000000e+00 0.00000000e+00 0.00000000e+00\n",
            "  0.00000000e+00 0.00000000e+00]\n",
            " [0.00000000e+00 0.00000000e+00 0.00000000e+00 0.00000000e+00\n",
            "  0.00000000e+00 0.00000000e+00]\n",
            " [0.00000000e+00 0.00000000e+00 0.00000000e+00 0.00000000e+00\n",
            "  0.00000000e+00 0.00000000e+00]]\n",
            "[[-4.06550982e-01 -4.09876353e-01 -4.09876353e-01 -4.07725009e-01\n",
            "  -4.07725009e-01 -4.07725009e-01]\n",
            " [ 1.18174101e-01 -5.65567006e-01 -5.65567006e-01  3.39756190e-01\n",
            "   3.39756190e-01  3.39756190e-01]\n",
            " [ 9.05953189e-01 -1.10160505e-01 -1.10160505e-01 -2.27287003e-01\n",
            "  -2.27287003e-01 -2.27287003e-01]\n",
            " [ 0.00000000e+00  7.07106781e-01 -7.07106781e-01 -2.22044605e-16\n",
            "  -1.11022302e-16 -1.11022302e-16]\n",
            " [ 0.00000000e+00 -1.20622182e-16  7.73279265e-17  8.16496581e-01\n",
            "  -4.08248290e-01 -4.08248290e-01]\n",
            " [-0.00000000e+00 -0.00000000e+00 -0.00000000e+00  0.00000000e+00\n",
            "   7.07106781e-01 -7.07106781e-01]]\n"
          ]
        }
      ]
    }
  ]
}